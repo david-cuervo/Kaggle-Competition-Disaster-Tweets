{
 "cells": [
  {
   "cell_type": "code",
   "execution_count": 1,
   "metadata": {},
   "outputs": [
    {
     "name": "stdout",
     "output_type": "stream",
     "text": [
      "Collecting kaggle\n",
      "\u001b[?25l  Downloading https://files.pythonhosted.org/packages/3a/e7/3bac01547d2ed3d308ac92a0878fbdb0ed0f3d41fb1906c319ccbba1bfbc/kaggle-1.5.12.tar.gz (58kB)\n",
      "\u001b[K     |████████████████████████████████| 61kB 3.0MB/s eta 0:00:01\n",
      "\u001b[?25hRequirement already satisfied: six>=1.10 in /Users/davidcuervo/opt/anaconda3/envs/learn-env/lib/python3.6/site-packages (from kaggle) (1.12.0)\n",
      "Requirement already satisfied: certifi in /Users/davidcuervo/opt/anaconda3/envs/learn-env/lib/python3.6/site-packages (from kaggle) (2020.12.5)\n",
      "Requirement already satisfied: python-dateutil in /Users/davidcuervo/opt/anaconda3/envs/learn-env/lib/python3.6/site-packages (from kaggle) (2.8.0)\n",
      "Requirement already satisfied: requests in /Users/davidcuervo/opt/anaconda3/envs/learn-env/lib/python3.6/site-packages (from kaggle) (2.22.0)\n",
      "Requirement already satisfied: tqdm in /Users/davidcuervo/opt/anaconda3/envs/learn-env/lib/python3.6/site-packages (from kaggle) (4.36.1)\n",
      "Collecting python-slugify (from kaggle)\n",
      "  Downloading https://files.pythonhosted.org/packages/7e/e2/0c8be1e3b237d11f10963c7cef82e4d98d70ca6e176f3922dddf7bfc7026/python_slugify-5.0.2-py2.py3-none-any.whl\n",
      "Requirement already satisfied: urllib3 in /Users/davidcuervo/opt/anaconda3/envs/learn-env/lib/python3.6/site-packages (from kaggle) (1.24.2)\n",
      "Requirement already satisfied: idna<2.9,>=2.5 in /Users/davidcuervo/opt/anaconda3/envs/learn-env/lib/python3.6/site-packages (from requests->kaggle) (2.8)\n",
      "Requirement already satisfied: chardet<3.1.0,>=3.0.2 in /Users/davidcuervo/opt/anaconda3/envs/learn-env/lib/python3.6/site-packages (from requests->kaggle) (3.0.4)\n",
      "Collecting text-unidecode>=1.3 (from python-slugify->kaggle)\n",
      "\u001b[?25l  Downloading https://files.pythonhosted.org/packages/a6/a5/c0b6468d3824fe3fde30dbb5e1f687b291608f9473681bbf7dabbf5a87d7/text_unidecode-1.3-py2.py3-none-any.whl (78kB)\n",
      "\u001b[K     |████████████████████████████████| 81kB 5.9MB/s eta 0:00:011\n",
      "\u001b[?25hBuilding wheels for collected packages: kaggle\n",
      "  Building wheel for kaggle (setup.py) ... \u001b[?25ldone\n",
      "\u001b[?25h  Created wheel for kaggle: filename=kaggle-1.5.12-cp36-none-any.whl size=73053 sha256=4e294bfcf7d7f6122c7417e239a96f9b9229886b11e5e0033d1498a924db9c92\n",
      "  Stored in directory: /Users/davidcuervo/Library/Caches/pip/wheels/a1/6a/26/d30b7499ff85a4a4593377a87ecf55f7d08af42f0de9b60303\n",
      "Successfully built kaggle\n",
      "Installing collected packages: text-unidecode, python-slugify, kaggle\n",
      "Successfully installed kaggle-1.5.12 python-slugify-5.0.2 text-unidecode-1.3\n",
      "Note: you may need to restart the kernel to use updated packages.\n"
     ]
    }
   ],
   "source": [
    "pip install kaggle"
   ]
  },
  {
   "cell_type": "code",
   "execution_count": 2,
   "metadata": {},
   "outputs": [
    {
     "ename": "SyntaxError",
     "evalue": "invalid syntax (<ipython-input-2-2906fdeada06>, line 1)",
     "output_type": "error",
     "traceback": [
      "\u001b[0;36m  File \u001b[0;32m\"<ipython-input-2-2906fdeada06>\"\u001b[0;36m, line \u001b[0;32m1\u001b[0m\n\u001b[0;31m    kaggle competitions download -c nlp-getting-started\u001b[0m\n\u001b[0m                      ^\u001b[0m\n\u001b[0;31mSyntaxError\u001b[0m\u001b[0;31m:\u001b[0m invalid syntax\n"
     ]
    }
   ],
   "source": [
    "kaggle competitions download -c nlp-getting-started"
   ]
  },
  {
   "cell_type": "code",
   "execution_count": null,
   "metadata": {},
   "outputs": [],
   "source": []
  }
 ],
 "metadata": {
  "kernelspec": {
   "display_name": "learn-env",
   "language": "python",
   "name": "learn-env"
  },
  "language_info": {
   "codemirror_mode": {
    "name": "ipython",
    "version": 3
   },
   "file_extension": ".py",
   "mimetype": "text/x-python",
   "name": "python",
   "nbconvert_exporter": "python",
   "pygments_lexer": "ipython3",
   "version": "3.6.9"
  }
 },
 "nbformat": 4,
 "nbformat_minor": 2
}
